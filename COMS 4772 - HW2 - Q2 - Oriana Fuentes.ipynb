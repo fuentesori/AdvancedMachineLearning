{
 "cells": [
  {
   "cell_type": "code",
   "execution_count": 1,
   "metadata": {
    "collapsed": false
   },
   "outputs": [],
   "source": [
    "import numpy as np\n",
    "import matplotlib.pyplot as plt\n",
    "from __future__ import division\n",
    "import math\n",
    "from cvxpy import *\n",
    "from numpy.linalg import matrix_rank\n",
    "import scipy"
   ]
  },
  {
   "cell_type": "code",
   "execution_count": 2,
   "metadata": {
    "collapsed": false
   },
   "outputs": [],
   "source": [
    "m = 100\n",
    "n = 100\n",
    "smatrix = scipy.sparse.random(m,n,density=0.1, format='coo', dtype=None, random_state=None)\n",
    "lowrank = np.random.randn(m,n)\n",
    "rows = np.random.choice(lowrank.shape[0],int(np.ceil(lowrank.shape[0]*0.8)))\n",
    "lowrank[rows] = np.zeros(n)\n",
    "M = smatrix + lowrank\n",
    "S = np.random.randn(m,n)\n",
    "L = np.random.randn(m,n)\n",
    "u = np.random.randn(m,n)\n",
    "rho = 1\n",
    "a = 1\n",
    "l = 1"
   ]
  },
  {
   "cell_type": "code",
   "execution_count": 3,
   "metadata": {
    "collapsed": true
   },
   "outputs": [],
   "source": [
    "def proxS(x,l):\n",
    "    prox = np.multiply(np.sign(x),np.maximum(np.subtract(np.absolute(x),l),0))\n",
    "    return prox"
   ]
  },
  {
   "cell_type": "code",
   "execution_count": 4,
   "metadata": {
    "collapsed": true
   },
   "outputs": [],
   "source": [
    "def proxL(x,a):\n",
    "    U, s, V = np.linalg.svd(x, full_matrices=False)\n",
    "    #s = np.multiply(np.sign(s),np.maximum(np.subtract(np.absolute(s),a),0))\n",
    "    #S = np.zeros((m, n), dtype=complex)\n",
    "    S = np.diag(s)\n",
    "    S = proxS(S,a)\n",
    "    prox = np.dot(U, np.dot(S, V))\n",
    "    return prox"
   ]
  },
  {
   "cell_type": "code",
   "execution_count": 5,
   "metadata": {
    "collapsed": false
   },
   "outputs": [
    {
     "name": "stdout",
     "output_type": "stream",
     "text": [
      "100\n"
     ]
    }
   ],
   "source": [
    "i = 0\n",
    "iters = 100\n",
    "for i in range(iters):\n",
    "    #update S\n",
    "    xS = S + a*(u + rho*(M-(L+S)))\n",
    "    S = proxS(xS,l)\n",
    "    #update L\n",
    "    xL = L + a*(u + rho*(M-(L+S)))\n",
    "    L = proxL(xL,a)\n",
    "    #update u\n",
    "    u  = u +( M-(L+S))\n",
    "    i+=1\n",
    "print i\n",
    "Mpred = L + S"
   ]
  },
  {
   "cell_type": "code",
   "execution_count": 6,
   "metadata": {
    "collapsed": false
   },
   "outputs": [
    {
     "name": "stdout",
     "output_type": "stream",
     "text": [
      "0.00405234266595\n",
      "0.0239153783904\n",
      "0.0242184890855\n",
      "0.0360647380089\n",
      "0.0119592817824\n"
     ]
    }
   ],
   "source": [
    "#verify with CVX\n",
    "# Construct the problem.\n",
    "\n",
    "# Create two scalar optimization variables.\n",
    "Lc = Variable(m,n)\n",
    "Sc = Variable(m,n)\n",
    "\n",
    "# Create two constraints.\n",
    "constraints = [Lc+Sc == M]\n",
    "\n",
    "# Form objective.\n",
    "obj = Minimize(norm(Lc,'nuc')+l*norm(Sc,1))\n",
    "\n",
    "# Form and solve problem.\n",
    "prob = Problem(obj, constraints)\n",
    "prob.solve()\n",
    "Mfinal =  Lc.value + Sc.value\n",
    "\n",
    "print np.linalg.norm(M-Mpred) \n",
    "print np.linalg.norm(M-Mfinal) \n",
    "print np.linalg.norm(Mpred-Mfinal)\n",
    "print np.linalg.norm(L-Lc.value)\n",
    "print np.linalg.norm(S-Sc.value)"
   ]
  }
 ],
 "metadata": {
  "kernelspec": {
   "display_name": "Python 2",
   "language": "python",
   "name": "python2"
  },
  "language_info": {
   "codemirror_mode": {
    "name": "ipython",
    "version": 2
   },
   "file_extension": ".py",
   "mimetype": "text/x-python",
   "name": "python",
   "nbconvert_exporter": "python",
   "pygments_lexer": "ipython2",
   "version": "2.7.13"
  }
 },
 "nbformat": 4,
 "nbformat_minor": 2
}
